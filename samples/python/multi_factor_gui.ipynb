{
 "cells": [
  {
   "cell_type": "markdown",
   "metadata": {},
   "source": [
    "## Prerequisites\n",
    "This notebook requires an experimental version of the cmdty-storage package only published on Test PyPI, plus the packages curves for smoothing the forward curve, and ipysheet which provides the input and output grids.\n",
    "\n",
    "`\n",
    "pip install -i https://test.pypi.org/simple/ cmdty-storage==0.1.0a17\n",
    "pip install curves\n",
    "pip install ipysheet\n",
    "`\n",
    "\n",
    "If this notebook has been downloaded standalone, i.e. without downloading the whole storage repo,\n",
    "it requires the file [storage_gui.py](https://github.com/cmdty/storage/blob/master/samples/python/storage_gui.py) be in the same directory.\n"
   ]
  },
  {
   "cell_type": "code",
   "execution_count": 1,
   "metadata": {
    "scrolled": false
   },
   "outputs": [
    {
     "data": {
      "application/vnd.jupyter.widget-view+json": {
       "model_id": "7d04cb4234f64cfea0496bc5e057dfaf",
       "version_major": 2,
       "version_minor": 0
      },
      "text/plain": [
       "Tab(children=(VBox(children=(HBox(children=(Button(description='Load Valuation Data', style=ButtonStyle()), Bu…"
      ]
     },
     "metadata": {},
     "output_type": "display_data"
    },
    {
     "data": {
      "application/vnd.jupyter.widget-view+json": {
       "model_id": "3ee1dbdc936346f98c69fcc4f26b123a",
       "version_major": 2,
       "version_minor": 0
      },
      "text/plain": [
       "HBox(children=(VBox(children=(Button(description='Calculate', style=ButtonStyle()), FloatProgress(value=0.0, m…"
      ]
     },
     "metadata": {},
     "output_type": "display_data"
    },
    {
     "data": {
      "application/vnd.jupyter.widget-view+json": {
       "model_id": "6dbb8ee08d2a4e07b86e70628186134e",
       "version_major": 2,
       "version_minor": 0
      },
      "text/plain": [
       "Tab(children=(HBox(children=(VBox(children=(Text(value='', description='Full Value', disabled=True), Text(valu…"
      ]
     },
     "metadata": {},
     "output_type": "display_data"
    }
   ],
   "source": [
    "%matplotlib inline\n",
    "import storage_gui as sg\n",
    "sg.display_gui()"
   ]
  },
  {
   "cell_type": "markdown",
   "metadata": {},
   "source": [
    "### To Do\n",
    "* Sort out truncation of labels.\n",
    "* Interest rate curve, not flat rate.\n",
    "* Ability to select granularity.\n",
    "* Display simulation results in charts/grids.\n",
    "* Export of simulation results to CSV.\n",
    "* Sort out display of output tables.\n",
    "* Reverse order logs are written and auto scroll to bottom on write.\n",
    "    "
   ]
  },
  {
   "cell_type": "code",
   "execution_count": 2,
   "metadata": {},
   "outputs": [
    {
     "data": {
      "application/vnd.jupyter.widget-view+json": {
       "model_id": "bd7dccb4bd1b42259e424e007ee3f5a2",
       "version_major": 2,
       "version_minor": 0
      },
      "text/plain": [
       "Button(description='Populate Test Data', style=ButtonStyle())"
      ]
     },
     "metadata": {},
     "output_type": "display_data"
    }
   ],
   "source": [
    "sg.test_data_btn()"
   ]
  },
  {
   "cell_type": "code",
   "execution_count": 3,
   "metadata": {},
   "outputs": [],
   "source": [
    "def create_fwd_input(dates, prices):\n",
    "    dates_cells = sg.ips.Cell(\n",
    "        value=dates,\n",
    "        row_start=0,\n",
    "        row_end=len(dates) - 1,\n",
    "        column_start=0,\n",
    "        column_end=0,\n",
    "        type='date',\n",
    "        date_format='YYYY-MM-DD',\n",
    "        squeeze_row=False,\n",
    "        squeeze_column=True\n",
    "    )\n",
    "    prices_cells = sg.ips.Cell(\n",
    "            value=prices,\n",
    "            row_start=0,\n",
    "            row_end=len(prices) - 1,\n",
    "            column_start=1,\n",
    "            column_end=1,\n",
    "            type='numeric',\n",
    "            numeric_format='0.00',\n",
    "            squeeze_row=False,\n",
    "            squeeze_column=True\n",
    "        )\n",
    "    cells = [dates_cells, prices_cells]\n",
    "    return sg.ips.Sheet(rows=len(dates), columns=2, cells=cells, row_headers=False,\n",
    "                       column_headers=['fwd_start', 'price'])\n",
    "\n",
    "#dates = ['2021-01-14', '2021-02-01', '2021-03-01', None, None]\n",
    "#prices = [25.6, 43.56, 38.77, None, None]\n",
    "\n",
    "today = sg.date.today()\n",
    "fwd_prices = [58.89, 61.41, 62.58, 58.9, 43.7, 58.65, 61.45, 56.87]\n",
    "fwd_prices = fwd_prices + [None] * (sg.num_fwd_rows - len(fwd_prices))\n",
    "fwd_dates = [(today + sg.timedelta(days=do)).strftime('%Y-%m-%d') for do in [0, 30, 60, 90, 150, 250, 350, 400]]\n",
    "fwd_dates = fwd_dates + [None] * (sg.num_fwd_rows - len(fwd_prices))\n",
    "\n",
    "\n",
    "#fwd_sheet = sg.create_fwd_input_sheet(fwd_dates, fwd_prices)\n",
    "#display(fwd_sheet)\n",
    "#sg.reset_fwd_input_sheet(fwd_sheet)\n"
   ]
  },
  {
   "cell_type": "code",
   "execution_count": 4,
   "metadata": {},
   "outputs": [
    {
     "data": {
      "text/plain": [
       "['2021-01-17',\n",
       " '2021-02-16',\n",
       " '2021-03-18',\n",
       " '2021-04-17',\n",
       " '2021-06-16',\n",
       " '2021-09-24',\n",
       " '2022-01-02',\n",
       " '2022-02-21']"
      ]
     },
     "execution_count": 4,
     "metadata": {},
     "output_type": "execute_result"
    }
   ],
   "source": [
    "fwd_dates"
   ]
  },
  {
   "cell_type": "code",
   "execution_count": 5,
   "metadata": {
    "scrolled": false
   },
   "outputs": [
    {
     "data": {
      "text/plain": [
       "['',\n",
       " '',\n",
       " '',\n",
       " '',\n",
       " '',\n",
       " '',\n",
       " '',\n",
       " '',\n",
       " '',\n",
       " '',\n",
       " '',\n",
       " '',\n",
       " '',\n",
       " '',\n",
       " '',\n",
       " '',\n",
       " '',\n",
       " '',\n",
       " '',\n",
       " '']"
      ]
     },
     "execution_count": 5,
     "metadata": {},
     "output_type": "execute_result"
    }
   ],
   "source": [
    "#dir(sg.fwd_input_sheet.cells[0])\n",
    "sg.ratchet_input_sheet.cells[2].value\n"
   ]
  }
 ],
 "metadata": {
  "kernelspec": {
   "display_name": "Python 3",
   "language": "python",
   "name": "python3"
  },
  "language_info": {
   "codemirror_mode": {
    "name": "ipython",
    "version": 3
   },
   "file_extension": ".py",
   "mimetype": "text/x-python",
   "name": "python",
   "nbconvert_exporter": "python",
   "pygments_lexer": "ipython3",
   "version": "3.7.1"
  }
 },
 "nbformat": 4,
 "nbformat_minor": 2
}
