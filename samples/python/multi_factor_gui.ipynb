{
 "cells": [
  {
   "cell_type": "markdown",
   "metadata": {},
   "source": [
    "## Prerequisites\n",
    "This notebook requires an experimental version of the cmdty-storage package only published on Test PyPI, plus the packages curves for smoothing the forward curve, and ipysheet which provides the input and output grids.\n",
    "\n",
    "`\n",
    "pip install -i https://test.pypi.org/simple/ cmdty-storage==0.1.0a17\n",
    "pip install curves\n",
    "pip install ipysheet\n",
    "`\n",
    "\n",
    "If this notebook has been downloaded standalone, i.e. without downloading the whole storage repo,\n",
    "it requires the file [storage_gui.py](https://github.com/cmdty/storage/blob/master/samples/python/storage_gui.py) be in the same directory.\n"
   ]
  },
  {
   "cell_type": "code",
   "execution_count": 1,
   "metadata": {
    "scrolled": false
   },
   "outputs": [
    {
     "data": {
      "application/vnd.jupyter.widget-view+json": {
       "model_id": "01ea6f00e1294e44871dfd4b64228562",
       "version_major": 2,
       "version_minor": 0
      },
      "text/plain": [
       "Tab(children=(VBox(children=(HBox(children=(Button(description='Load Valuation Data', style=ButtonStyle()), Bu…"
      ]
     },
     "metadata": {},
     "output_type": "display_data"
    },
    {
     "data": {
      "application/vnd.jupyter.widget-view+json": {
       "model_id": "3985b71f858e4a13bdcd73fd058bf122",
       "version_major": 2,
       "version_minor": 0
      },
      "text/plain": [
       "HBox(children=(VBox(children=(Button(description='Calculate', style=ButtonStyle()), FloatProgress(value=0.0, m…"
      ]
     },
     "metadata": {},
     "output_type": "display_data"
    },
    {
     "data": {
      "application/vnd.jupyter.widget-view+json": {
       "model_id": "751725bb4d8540ce8fe2d3c0412d998a",
       "version_major": 2,
       "version_minor": 0
      },
      "text/plain": [
       "Tab(children=(HBox(children=(VBox(children=(Text(value='', description='Full Value', disabled=True), Text(valu…"
      ]
     },
     "metadata": {},
     "output_type": "display_data"
    }
   ],
   "source": [
    "%matplotlib inline\n",
    "import storage_gui as sg\n",
    "sg.display_gui()"
   ]
  },
  {
   "cell_type": "markdown",
   "metadata": {},
   "source": [
    "### To Do\n",
    "* Buttons to clear data:\n",
    "    * Forward curve.\n",
    "    * Ratches.\n",
    "* Import of data clears existing data first:\n",
    "    * Forward curve.\n",
    "    * Ratches.\n",
    "* Optimise performance of data import (very slow at moment due to display updating on each cell change).\n",
    "* Sort out truncation of labels.\n",
    "* Interest rate curve, not flat rate.\n",
    "* Ability to select granularity.\n",
    "* Display simulation results in charts/grids.\n",
    "    "
   ]
  },
  {
   "cell_type": "code",
   "execution_count": 2,
   "metadata": {},
   "outputs": [
    {
     "data": {
      "application/vnd.jupyter.widget-view+json": {
       "model_id": "066ee180bc3045b9a0b7ca3e7043c825",
       "version_major": 2,
       "version_minor": 0
      },
      "text/plain": [
       "Button(description='Populate Test Data', style=ButtonStyle())"
      ]
     },
     "metadata": {},
     "output_type": "display_data"
    }
   ],
   "source": [
    "sg.test_data_btn()"
   ]
  },
  {
   "cell_type": "code",
   "execution_count": 3,
   "metadata": {},
   "outputs": [
    {
     "data": {
      "application/vnd.jupyter.widget-view+json": {
       "model_id": "0c2040bb4bc54cbe8a055df40fc47e4b",
       "version_major": 2,
       "version_minor": 0
      },
      "text/plain": [
       "Sheet(cells=(Cell(choice=[], column_end=0, column_start=0, date_format='YYYY-MM-DD', row_end=4, row_start=0, s…"
      ]
     },
     "metadata": {},
     "output_type": "display_data"
    }
   ],
   "source": [
    "def create_fwd_input(dates, prices):\n",
    "    dates_cells = sg.ips.Cell(\n",
    "        value=dates,\n",
    "        row_start=0,\n",
    "        row_end=len(dates) - 1,\n",
    "        column_start=0,\n",
    "        column_end=0,\n",
    "        type='date',\n",
    "        date_format='YYYY-MM-DD',\n",
    "        squeeze_row=False,\n",
    "        squeeze_column=True\n",
    "    )\n",
    "    prices_cells = sg.ips.Cell(\n",
    "            value=prices,\n",
    "            row_start=0,\n",
    "            row_end=len(prices) - 1,\n",
    "            column_start=1,\n",
    "            column_end=1,\n",
    "            type='numeric',\n",
    "            numeric_format='0.00',\n",
    "            squeeze_row=False,\n",
    "            squeeze_column=True\n",
    "        )\n",
    "    cells = [dates_cells, prices_cells]\n",
    "    return sg.ips.Sheet(rows=len(dates), columns=2, cells=cells, row_headers=False,\n",
    "                       column_headers=['fwd_start', 'price'])\n",
    "\n",
    "dates = ['2021-01-14', '2021-02-01', '2021-03-01', None, None]\n",
    "prices = [25.6, 43.56, 38.77, None, None]\n",
    "fwd_sheet = create_fwd_input(dates, prices)\n",
    "display(fwd_sheet)"
   ]
  }
 ],
 "metadata": {
  "kernelspec": {
   "display_name": "Python 3",
   "language": "python",
   "name": "python3"
  },
  "language_info": {
   "codemirror_mode": {
    "name": "ipython",
    "version": 3
   },
   "file_extension": ".py",
   "mimetype": "text/x-python",
   "name": "python",
   "nbconvert_exporter": "python",
   "pygments_lexer": "ipython3",
   "version": "3.7.1"
  }
 },
 "nbformat": 4,
 "nbformat_minor": 2
}
